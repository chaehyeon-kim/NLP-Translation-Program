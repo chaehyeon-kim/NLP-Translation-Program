{
 "cells": [
  {
   "cell_type": "code",
   "execution_count": 9,
   "metadata": {},
   "outputs": [
    {
     "name": "stdout",
     "output_type": "stream",
     "text": [
      "Request:\n",
      "http://koreanfood.rda.go.kr/kfi/openapi/service?apikey=20210113161900NFYHPK9FUG76YBHT8K&serviceType=AA001&nowPage=1&pageSize=10&fdGrupp=A&fdNm=%EA%B7%80%EB%A6%AC&fdEngNm=Oat&examinYear=93&originNm=%EB%86%8D%EC%B4%8C%EC%A7%84%ED%9D%A5%EC%B2%AD\n"
     ]
    }
   ],
   "source": [
    "# 요청변수 fdGrupp : 식품군\n",
    "# A:곡류 및 그제품, B:감자류 및 전분류, C:당류, D:두류, E:견과류 및 종실류\n",
    "# F:채소류, G:버섯류, H:과일류, I:육류, J:난류\n",
    "# K:어패류, L:해조류, M:우유 및 유제품류, N:유지류, O:차류\n",
    "# P:음료류, Q:주류, R:조미료류, S:조리가공식품류, T:기타\n",
    "\n",
    "import urllib\n",
    "from urllib import parse\n",
    "from urllib.request import urlopen\n",
    "from urllib.parse import urlencode, unquote, quote_plus\n",
    "\n",
    "from bs4 import BeautifulSoup\n",
    "\n",
    "url = 'http://koreanfood.rda.go.kr/kfi/openapi/service'\n",
    "\n",
    "key = '20210113161900NFYHPK9FUG76YBHT8K'\n",
    "\n",
    "queryParams = '?' + urlencode({quote_plus('apikey'): key,\n",
    "                               quote_plus('serviceType'): 'AA001',\n",
    "                               quote_plus('nowPage'): '1',\n",
    "                               quote_plus('pageSize'): '10', \n",
    "                               quote_plus('fdGrupp'): 'A',\n",
    "                               quote_plus('fdNm'): '귀리',\n",
    "                               quote_plus('fdEngNm'): 'Oat',\n",
    "                               quote_plus('examinYear'): '93',\n",
    "                               quote_plus('originNm'): '농촌진흥청',\n",
    "                               })\n",
    "\n",
    "request = urllib.request.Request(url+unquote(queryParams))\n",
    "print('Request:\\n'+url+queryParams)"
   ]
  },
  {
   "cell_type": "code",
   "execution_count": null,
   "metadata": {},
   "outputs": [],
   "source": [
    "http://koreanfood.rda.go.kr/kfi/openapi/service?apiKey=20210113161900NFYHPK9FUG76YBHT8K&serviceType=AA001&nowPage=1&pageSize=10&fdGrupp=&fdNm=%EC%8C%80"
   ]
  },
  {
   "cell_type": "code",
   "execution_count": 2,
   "metadata": {},
   "outputs": [
    {
     "ename": "NameError",
     "evalue": "name 'urllib' is not defined",
     "output_type": "error",
     "traceback": [
      "\u001b[1;31m---------------------------------------------------------------------------\u001b[0m",
      "\u001b[1;31mNameError\u001b[0m                                 Traceback (most recent call last)",
      "\u001b[1;32m<ipython-input-2-9f6136dffc24>\u001b[0m in \u001b[0;36m<module>\u001b[1;34m\u001b[0m\n\u001b[0;32m      1\u001b[0m \u001b[0murl\u001b[0m \u001b[1;33m=\u001b[0m \u001b[1;34m'http://koreanfood.rda.go.kr/kfi/openapi/service'\u001b[0m\u001b[1;33m\u001b[0m\u001b[1;33m\u001b[0m\u001b[0m\n\u001b[0;32m      2\u001b[0m \u001b[0mqueryParams\u001b[0m \u001b[1;33m=\u001b[0m \u001b[1;34m'?apiKey=20210113161900NFYHPK9FUG76YBHT8K&serviceType=AA001&nowPage=1&pageSize=10&fdGrupp=&fdNm=%EC%8C%80'\u001b[0m\u001b[1;33m\u001b[0m\u001b[1;33m\u001b[0m\u001b[0m\n\u001b[1;32m----> 3\u001b[1;33m \u001b[0mrequest\u001b[0m \u001b[1;33m=\u001b[0m \u001b[0murllib\u001b[0m\u001b[1;33m.\u001b[0m\u001b[0mrequest\u001b[0m\u001b[1;33m.\u001b[0m\u001b[0mRequest\u001b[0m\u001b[1;33m(\u001b[0m\u001b[0murl\u001b[0m\u001b[1;33m+\u001b[0m\u001b[0munquote\u001b[0m\u001b[1;33m(\u001b[0m\u001b[0mqueryParams\u001b[0m\u001b[1;33m)\u001b[0m\u001b[1;33m)\u001b[0m\u001b[1;33m\u001b[0m\u001b[1;33m\u001b[0m\u001b[0m\n\u001b[0m\u001b[0;32m      4\u001b[0m \u001b[1;31m# print('Request:\\n'+url+queryParams)\u001b[0m\u001b[1;33m\u001b[0m\u001b[1;33m\u001b[0m\u001b[1;33m\u001b[0m\u001b[0m\n\u001b[0;32m      5\u001b[0m \u001b[1;33m\u001b[0m\u001b[0m\n",
      "\u001b[1;31mNameError\u001b[0m: name 'urllib' is not defined"
     ]
    }
   ],
   "source": [
    "url = 'http://koreanfood.rda.go.kr/kfi/openapi/service'\n",
    "queryParams = '?apiKey=20210113161900NFYHPK9FUG76YBHT8K&serviceType=AA001&nowPage=1&pageSize=10&fdGrupp=&fdNm=%EC%8C%80'\n",
    "request = urllib.request.Request(url+unquote(queryParams))\n",
    "# print('Request:\\n'+url+queryParams)\n",
    "\n",
    "request.get_method = lambda: 'GET'\n",
    "response_body = urlopen(request).read()\n",
    "\n",
    "soup = BeautifulSoup(response_body, \"html.parser\")\n",
    "\n",
    "# print(\"\\nResult:\")\n",
    "# print(soup)\n",
    "\n",
    "tags = soup.find_all('item')\n",
    "\n",
    "for i in tags:\n",
    "    print('성분구분명 : {}'.format(i.select('irdntSeNm')[0].text))\n",
    "    print('국문성분명 : {}'.format(i.select('irdntNm')[0].text))\n",
    "    print('함량 : {} ug/m3'.format(i.select('conInfo')[0].text))\n",
    "    print('함량단위 : {}'.format(i.select('irdntUnitNm')[0].text))\n",
    "    print()"
   ]
  },
  {
   "cell_type": "code",
   "execution_count": null,
   "metadata": {},
   "outputs": [],
   "source": []
  }
 ],
 "metadata": {
  "kernelspec": {
   "display_name": "Python 3",
   "language": "python",
   "name": "python3"
  },
  "language_info": {
   "codemirror_mode": {
    "name": "ipython",
    "version": 3
   },
   "file_extension": ".py",
   "mimetype": "text/x-python",
   "name": "python",
   "nbconvert_exporter": "python",
   "pygments_lexer": "ipython3",
   "version": "3.7.6"
  }
 },
 "nbformat": 4,
 "nbformat_minor": 4
}
