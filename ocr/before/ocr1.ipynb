{
 "cells": [
  {
   "cell_type": "code",
   "execution_count": 1,
   "metadata": {},
   "outputs": [
    {
     "name": "stdout",
     "output_type": "stream",
     "text": [
      "의 제 형 당 량 여 앙 (19000/) 팩 당\n",
      "열 량 201%01\n",
      "탄 수 화 물 159(590).\n",
      "\n",
      "딩 류 859\n",
      "단 랙질 090090\n",
      "\n",
      "\" 지 빙 | . 59009\n",
      "모 화 지 방 19059\n",
      "트 랜 스 지 방 99\n",
      "콜 레 스 테 톰 099.\n",
      "나 트 톰 170109(99).\n",
      "\n",
      " \n",
      "\f",
      "\n"
     ]
    }
   ],
   "source": [
    "from PIL import Image\n",
    "import pytesseract\n",
    "\n",
    "pytesseract.pytesseract.tesseract_cmd = r'C:\\Program Files\\Tesseract-OCR\\tesseract.exe'\n",
    "text = pytesseract.image_to_string(Image.open(\"food.png\"), lang=\"kor\")\n",
    "print(text)"
   ]
  },
  {
   "cell_type": "code",
   "execution_count": 2,
   "metadata": {},
   "outputs": [],
   "source": [
    "with open(\"food.txt\", \"w\", encoding=\"utf8\") as f:\n",
    "    f.write(text)\n",
    "    f.write(\"\\n\\n\\n\")\n",
    "    f.write(text.replace(\" \", \"\"))"
   ]
  },
  {
   "cell_type": "code",
   "execution_count": null,
   "metadata": {},
   "outputs": [],
   "source": [
    "import cv2\n",
    "from PIL import Image\n",
    "import pytesseract\n",
    "import time\n",
    "\n",
    "cap = cv2.VideoCapture(0)\n",
    "\n",
    "while cap.isOpened():\n",
    "    success, frame = cap.read()\n",
    "    if success:\n",
    "        cv2.imshow('Camera Window', frame)\n",
    "        \n",
    "        key = cv2.waitKey(1) & 0xFF\n",
    "        if (key == 27):\n",
    "            return_value, image = cap.read()\n",
    "            cv2.imwrite(\"opencv.jpg\", image)\n",
    "            time.sleep(1)\n",
    "            \n",
    "            pytesseract.pytesseract.tesseract_cmd = r'C:\\Program Files\\Tesseract-OCR\\tesseract.exe'\n",
    "            text = pytesseract.image_to_string(Image.open(\"opencv.jpg\"), lang = \"kor\")\n",
    "            \n",
    "            print(text.replace(\" \", \"\"))\n",
    "            break\n",
    "cap.release()\n",
    "cv2.destroyAllWindows()"
   ]
  }
 ],
 "metadata": {
  "kernelspec": {
   "display_name": "Python 3",
   "language": "python",
   "name": "python3"
  },
  "language_info": {
   "codemirror_mode": {
    "name": "ipython",
    "version": 3
   },
   "file_extension": ".py",
   "mimetype": "text/x-python",
   "name": "python",
   "nbconvert_exporter": "python",
   "pygments_lexer": "ipython3",
   "version": "3.7.6"
  }
 },
 "nbformat": 4,
 "nbformat_minor": 4
}
